{
 "cells": [
  {
   "cell_type": "code",
   "execution_count": 1,
   "metadata": {},
   "outputs": [
    {
     "name": "stderr",
     "output_type": "stream",
     "text": [
      "c:\\Users\\hombr\\AppData\\Local\\Programs\\Python\\Python311\\Lib\\site-packages\\tqdm\\auto.py:21: TqdmWarning: IProgress not found. Please update jupyter and ipywidgets. See https://ipywidgets.readthedocs.io/en/stable/user_install.html\n",
      "  from .autonotebook import tqdm as notebook_tqdm\n"
     ]
    },
    {
     "name": "stdout",
     "output_type": "stream",
     "text": [
      "response:\n",
      "GenerateContentResponse(\n",
      "    done=True,\n",
      "    iterator=None,\n",
      "    result=protos.GenerateContentResponse({\n",
      "      \"candidates\": [\n",
      "        {\n",
      "          \"content\": {\n",
      "            \"parts\": [\n",
      "              {\n",
      "                \"text\": \"Hola! \\u00bfQu\\u00e9 tal est\\u00e1s? \\u00bfEn qu\\u00e9 puedo ayudarte hoy? \\n\"\n",
      "              }\n",
      "            ],\n",
      "            \"role\": \"model\"\n",
      "          },\n",
      "          \"finish_reason\": \"STOP\",\n",
      "          \"index\": 0,\n",
      "          \"safety_ratings\": [\n",
      "            {\n",
      "              \"category\": \"HARM_CATEGORY_SEXUALLY_EXPLICIT\",\n",
      "              \"probability\": \"NEGLIGIBLE\"\n",
      "            },\n",
      "            {\n",
      "              \"category\": \"HARM_CATEGORY_HATE_SPEECH\",\n",
      "              \"probability\": \"NEGLIGIBLE\"\n",
      "            },\n",
      "            {\n",
      "              \"category\": \"HARM_CATEGORY_HARASSMENT\",\n",
      "              \"probability\": \"NEGLIGIBLE\"\n",
      "            },\n",
      "            {\n",
      "              \"category\": \"HARM_CATEGORY_DANGEROUS_CONTENT\",\n",
      "              \"probability\": \"NEGLIGIBLE\"\n",
      "            }\n",
      "          ]\n",
      "        }\n",
      "      ],\n",
      "      \"usage_metadata\": {\n",
      "        \"prompt_token_count\": 2,\n",
      "        \"candidates_token_count\": 14,\n",
      "        \"total_token_count\": 16\n",
      "      }\n",
      "    }),\n",
      ")\n",
      "Tiempo de respuesta: 1.0998578071594238 segundos\n"
     ]
    }
   ],
   "source": [
    "import google.generativeai as genai \n",
    "from dotenv import load_dotenv\n",
    "import os\n",
    "import time\n",
    "\n",
    "load_dotenv()  # Load the .env file\n",
    "\n",
    "genai.configure(api_key=os.getenv('API_KEY'))\n",
    "\n",
    "model = genai.GenerativeModel('gemini-1.5-flash')\n",
    "\n",
    "# Start the timer\n",
    "start_time = time.time()\n",
    "\n",
    "response = model.generate_content(\"hola\")\n",
    "\n",
    "# End the timer\n",
    "end_time = time.time()\n",
    "\n",
    "# Calculate the elapsed time\n",
    "elapsed_time = end_time - start_time\n",
    "\n",
    "print(response)\n",
    "print(f\"Tiempo de respuesta: {elapsed_time} segundos\")\n"
   ]
  },
  {
   "cell_type": "code",
   "execution_count": 3,
   "metadata": {},
   "outputs": [
    {
     "name": "stderr",
     "output_type": "stream",
     "text": [
      "  % Total    % Received % Xferd  Average Speed   Time    Time     Time  Current\n",
      "                                 Dload  Upload   Total   Spent    Left  Speed\n",
      "\n",
      "  0     0    0     0    0     0      0      0 --:--:-- --:--:-- --:--:--     0\n",
      " 23  349k   23 82308    0     0   286k      0  0:00:01 --:--:--  0:00:01  290k\n",
      "100  349k  100  349k    0     0  1056k      0 --:--:-- --:--:-- --:--:-- 1067k\n"
     ]
    }
   ],
   "source": [
    "!curl -o jetpack.jpg https://storage.googleapis.com/generativeai-downloads/images/jetpack.jpg"
   ]
  },
  {
   "cell_type": "code",
   "execution_count": 4,
   "metadata": {},
   "outputs": [
    {
     "name": "stdout",
     "output_type": "stream",
     "text": [
      "Uploaded file 'Jetpack drawing' as: https://generativelanguage.googleapis.com/v1beta/files/90nwnq6lah4m\n"
     ]
    }
   ],
   "source": [
    "# Upload the file and print a confirmation.\n",
    "sample_file = genai.upload_file(path=\"jetpack.jpg\",\n",
    "                            display_name=\"Jetpack drawing\")\n",
    "\n",
    "print(f\"Uploaded file '{sample_file.display_name}' as: {sample_file.uri}\")"
   ]
  },
  {
   "cell_type": "code",
   "execution_count": 5,
   "metadata": {},
   "outputs": [
    {
     "name": "stdout",
     "output_type": "stream",
     "text": [
      "Retrieved file 'Jetpack drawing' as: https://generativelanguage.googleapis.com/v1beta/files/90nwnq6lah4m\n"
     ]
    }
   ],
   "source": [
    "file = genai.get_file(name=sample_file.name)\n",
    "print(f\"Retrieved file '{file.display_name}' as: {sample_file.uri}\")"
   ]
  },
  {
   "cell_type": "code",
   "execution_count": 9,
   "metadata": {},
   "outputs": [
    {
     "name": "stdout",
     "output_type": "stream",
     "text": [
      ">El dibujo muestra la idea de una \"Mochila Jetpack\", con etiquetas que describen sus características. Aquí hay una descripción:\n",
      "\n",
      "**Mochila Jetpack**\n",
      "\n",
      "La imagen central muestra una mochila con dos propulsores retráctiles en la parte inferior que parecen estar expulsando vapor o humo.\n",
      "\n",
      "**Características:**\n",
      "\n",
      "* **Cabe una laptop de 18 pulgadas:** Esto indica que la mochila es espaciosa.\n",
      "* **Ligera, parece una mochila normal:** El diseño busca ser discreto y práctico.\n",
      "* **Propulsores retráctiles:** Permiten al usuario \"volar\" cuando se activan.\n",
      "* **Cargador USB-C:** Permite cargar dispositivos electrónicos.\n",
      "* **Duración de la batería de 15 minutos:** Indica la autonomía del jetpack.\n",
      "* **Alimentado por vapor, ecológico y limpio:** Destaca la fuente de energía y su sostenibilidad. \n",
      "* **Soporte acolchado para la correa:** Ofrece comodidad al usar la mochila. \n",
      "\n",
      "En resumen, la imagen presenta un concepto de mochila jetpack que combina la funcionalidad de una mochila normal con la capacidad de volar por periodos cortos. Se busca que sea práctica, ligera y con un diseño discreto para el uso diario.\n",
      "\n"
     ]
    }
   ],
   "source": [
    "# Choose a Gemini model.\n",
    "model = genai.GenerativeModel(model_name=\"gemini-1.5-pro\")\n",
    "\n",
    "# Prompt the model with text and the previously uploaded image.\n",
    "response = model.generate_content([sample_file, \"describe lo que vez en español\"])\n",
    "\n",
    "print(\">\" + response.text)"
   ]
  }
 ],
 "metadata": {
  "kernelspec": {
   "display_name": "Python 3",
   "language": "python",
   "name": "python3"
  },
  "language_info": {
   "codemirror_mode": {
    "name": "ipython",
    "version": 3
   },
   "file_extension": ".py",
   "mimetype": "text/x-python",
   "name": "python",
   "nbconvert_exporter": "python",
   "pygments_lexer": "ipython3",
   "version": "3.11.0"
  }
 },
 "nbformat": 4,
 "nbformat_minor": 2
}
